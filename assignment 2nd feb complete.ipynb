{
 "cells": [
  {
   "cell_type": "code",
   "execution_count": 4,
   "id": "7b35f3e5-a158-403b-b2e1-27eb0d5a5024",
   "metadata": {},
   "outputs": [],
   "source": [
    "sum = 0 \n",
    "product = 1"
   ]
  },
  {
   "cell_type": "code",
   "execution_count": 2,
   "id": "02803a27-c688-49ff-8d0c-519ca5f9ec96",
   "metadata": {},
   "outputs": [
    {
     "name": "stdout",
     "output_type": "stream",
     "text": [
      "55 3628800\n"
     ]
    }
   ],
   "source": [
    "for i in range(1,11):\n",
    "    sum = sum + i\n",
    "    product = product * i\n",
    "print(sum,product)\n"
   ]
  },
  {
   "cell_type": "code",
   "execution_count": 10,
   "id": "b70018b5-cb90-4f0d-950b-96dedb82fd1a",
   "metadata": {},
   "outputs": [
    {
     "name": "stdout",
     "output_type": "stream",
     "text": [
      "55 3628800\n"
     ]
    }
   ],
   "source": [
    "sum = 0\n",
    "product=1\n",
    "\n",
    "t=1\n",
    "while t<11:\n",
    "    sum = sum + t\n",
    "    product = product*t\n",
    "    t = t+1\n",
    "    \n",
    "print(sum,product)"
   ]
  },
  {
   "cell_type": "code",
   "execution_count": 14,
   "id": "22cbd715-bac1-4bdb-990e-68d242505683",
   "metadata": {},
   "outputs": [
    {
     "name": "stdin",
     "output_type": "stream",
     "text": [
      "enter the units:- 310\n"
     ]
    },
    {
     "name": "stdout",
     "output_type": "stream",
     "text": [
      "2250\n"
     ]
    }
   ],
   "source": [
    "unit= int(input(\"enter the units:-\"))\n",
    "cost = 0\n",
    "if unit>300:cost = 2050 + (unit-300)*20\n",
    "elif unit >200 and unit<=300: cost = 1050 + (unit-200)*10\n",
    "elif unit >100 and unit<=200: cost = 450 + (unit-100)*6\n",
    "else:cost = unit * 4.5\n",
    "print(cost)"
   ]
  },
  {
   "cell_type": "code",
   "execution_count": 6,
   "id": "1b03dfd4-f692-4ed4-8d06-e4dc431af0d7",
   "metadata": {},
   "outputs": [
    {
     "data": {
      "text/plain": [
       "[1,\n",
       " 2,\n",
       " 3,\n",
       " 4,\n",
       " 5,\n",
       " 6,\n",
       " 7,\n",
       " 8,\n",
       " 9,\n",
       " 10,\n",
       " 11,\n",
       " 12,\n",
       " 13,\n",
       " 14,\n",
       " 15,\n",
       " 16,\n",
       " 17,\n",
       " 18,\n",
       " 19,\n",
       " 20,\n",
       " 21,\n",
       " 22,\n",
       " 23,\n",
       " 24,\n",
       " 25,\n",
       " 26,\n",
       " 27,\n",
       " 28,\n",
       " 29,\n",
       " 30,\n",
       " 31,\n",
       " 32,\n",
       " 33,\n",
       " 34,\n",
       " 35,\n",
       " 36,\n",
       " 37,\n",
       " 38,\n",
       " 39,\n",
       " 40,\n",
       " 41,\n",
       " 42,\n",
       " 43,\n",
       " 44,\n",
       " 45,\n",
       " 46,\n",
       " 47,\n",
       " 48,\n",
       " 49,\n",
       " 50,\n",
       " 51,\n",
       " 52,\n",
       " 53,\n",
       " 54,\n",
       " 55,\n",
       " 56,\n",
       " 57,\n",
       " 58,\n",
       " 59,\n",
       " 60,\n",
       " 61,\n",
       " 62,\n",
       " 63,\n",
       " 64,\n",
       " 65,\n",
       " 66,\n",
       " 67,\n",
       " 68,\n",
       " 69,\n",
       " 70,\n",
       " 71,\n",
       " 72,\n",
       " 73,\n",
       " 74,\n",
       " 75,\n",
       " 76,\n",
       " 77,\n",
       " 78,\n",
       " 79,\n",
       " 80,\n",
       " 81,\n",
       " 82,\n",
       " 83,\n",
       " 84,\n",
       " 85,\n",
       " 86,\n",
       " 87,\n",
       " 88,\n",
       " 89,\n",
       " 90,\n",
       " 91,\n",
       " 92,\n",
       " 93,\n",
       " 94,\n",
       " 95,\n",
       " 96,\n",
       " 97,\n",
       " 98,\n",
       " 99,\n",
       " 100]"
      ]
     },
     "execution_count": 6,
     "metadata": {},
     "output_type": "execute_result"
    }
   ],
   "source": [
    "l=[]\n",
    "for i in range(1,101):\n",
    "    l.append(i)\n",
    "l"
   ]
  },
  {
   "cell_type": "code",
   "execution_count": 9,
   "id": "6319a88d-ed3f-47b9-bbb9-50f08f21bd78",
   "metadata": {},
   "outputs": [
    {
     "name": "stdout",
     "output_type": "stream",
     "text": [
      "[2, 4, 5, 6, 8, 10, 12, 14, 15, 16, 18, 20, 22, 24, 25, 26, 28, 30, 32, 34, 35, 36, 38, 40, 42, 44, 45, 46, 48, 50, 52, 54, 55, 56, 58, 60, 62, 64, 65, 66, 68, 70, 72, 74, 75, 76, 78, 80, 82, 84, 85, 86, 88, 90, 92, 94, 95, 96, 98, 100]\n"
     ]
    }
   ],
   "source": [
    "l_for=[]\n",
    "for i in range(1,100):\n",
    "    if (l[i]*l[i]*l[i])%4==0 or (l[i]*l[i]*l[i])%5==0:\n",
    "        l_for.append(l[i])\n",
    "        \n",
    "print(l_for)"
   ]
  },
  {
   "cell_type": "code",
   "execution_count": 11,
   "id": "1639b171-026c-4af5-8f81-01f4fd6d901e",
   "metadata": {},
   "outputs": [
    {
     "name": "stdout",
     "output_type": "stream",
     "text": [
      "[2, 4, 5, 6, 8, 10, 12, 14, 15, 16, 18, 20, 22, 24, 25, 26, 28, 30, 32, 34, 35, 36, 38, 40, 42, 44, 45, 46, 48, 50, 52, 54, 55, 56, 58, 60, 62, 64, 65, 66, 68, 70, 72, 74, 75, 76, 78, 80, 82, 84, 85, 86, 88, 90, 92, 94, 95, 96, 98, 100]\n"
     ]
    }
   ],
   "source": [
    "l_while=[]\n",
    "i=1\n",
    "while i<100:\n",
    "    if (l[i]*l[i]*l[i])%4==0 or (l[i]*l[i]*l[i])%5==0:\n",
    "        l_while.append(l[i])\n",
    "    i = i+1\n",
    "\n",
    "print(l_while)"
   ]
  },
  {
   "cell_type": "code",
   "execution_count": 12,
   "id": "2e3288dc-c85b-4ddb-bda3-adb096c2ecf1",
   "metadata": {},
   "outputs": [],
   "source": [
    "string = \"I want to become a data scientist\""
   ]
  },
  {
   "cell_type": "code",
   "execution_count": 16,
   "id": "e7aad4f1-b1cd-4dde-8633-d266834bf506",
   "metadata": {},
   "outputs": [
    {
     "name": "stdout",
     "output_type": "stream",
     "text": [
      "aoeoeaaaiei\n"
     ]
    }
   ],
   "source": [
    "str = \"\"\n",
    "for i in range(len(string)):\n",
    "    if string[i] in (\"a\",\"e\",\"i\",\"o\",\"u\"):\n",
    "                str = str + string[i]\n",
    "print(str)"
   ]
  },
  {
   "cell_type": "code",
   "execution_count": null,
   "id": "d95eacbb-cbff-42b5-a174-11a9ed9bd099",
   "metadata": {},
   "outputs": [],
   "source": []
  }
 ],
 "metadata": {
  "kernelspec": {
   "display_name": "Python 3 (ipykernel)",
   "language": "python",
   "name": "python3"
  },
  "language_info": {
   "codemirror_mode": {
    "name": "ipython",
    "version": 3
   },
   "file_extension": ".py",
   "mimetype": "text/x-python",
   "name": "python",
   "nbconvert_exporter": "python",
   "pygments_lexer": "ipython3",
   "version": "3.10.6"
  }
 },
 "nbformat": 4,
 "nbformat_minor": 5
}
